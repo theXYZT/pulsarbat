{
 "cells": [
  {
   "cell_type": "markdown",
   "id": "640a6a33-5bad-4f56-81c3-a789cc8b6ba7",
   "metadata": {
    "tags": []
   },
   "source": [
    "# Working with Signals"
   ]
  },
  {
   "cell_type": "markdown",
   "id": "7639489b-e90b-4e22-9fe5-3c4d492521b0",
   "metadata": {},
   "source": [
    "The fundamental data object in pulsarbat is a signal."
   ]
  },
  {
   "cell_type": "code",
   "execution_count": null,
   "id": "ead4558a-a785-449d-934d-2f9008051269",
   "metadata": {},
   "outputs": [],
   "source": []
  }
 ],
 "metadata": {
  "kernelspec": {
   "display_name": "Python 3 (ipykernel)",
   "language": "python",
   "name": "python3"
  },
  "language_info": {
   "codemirror_mode": {
    "name": "ipython",
    "version": 3
   },
   "file_extension": ".py",
   "mimetype": "text/x-python",
   "name": "python",
   "nbconvert_exporter": "python",
   "pygments_lexer": "ipython3",
   "version": "3.11.2"
  },
  "metadata": {
   "mystnb": {
    "execution_mode": "force"
   }
  }
 },
 "nbformat": 4,
 "nbformat_minor": 5
}
